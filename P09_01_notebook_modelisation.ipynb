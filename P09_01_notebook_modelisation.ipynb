{
 "cells": [
  {
   "cell_type": "code",
   "execution_count": 461,
   "metadata": {},
   "outputs": [],
   "source": [
    "%reload_ext autoreload\n",
    "%autoreload 2\n",
    "%matplotlib inline\n",
    "\n",
    "from math import *\n",
    "from heapq import nlargest\n",
    "import os\n",
    "import pandas as pd\n",
    "import numpy as np\n",
    "import matplotlib.pyplot as plt\n",
    "\n",
    "import pickle\n",
    "\n",
    "from sklearn.metrics.pairwise import cosine_similarity\n",
    "from sklearn.decomposition import PCA\n",
    "\n",
    "from surprise import Dataset, Reader, SVD, accuracy, dump\n",
    "from surprise.model_selection import GridSearchCV, cross_validate, train_test_split\n",
    "\n",
    "# Import des modules contenant les fonctions utilitaires\n",
    "import src.helpers as helpers"
   ]
  },
  {
   "cell_type": "code",
   "execution_count": 99,
   "metadata": {},
   "outputs": [],
   "source": [
    "# Réglage des graphiques\n",
    "\n",
    "plt.style.use('seaborn-whitegrid')\n",
    "\n",
    "plt.rc('font', size=14)\n",
    "plt.rc('axes', titlesize=20)\n",
    "plt.rc('axes', labelsize=18)\n",
    "plt.rc('xtick', labelsize=12)\n",
    "plt.rc('ytick', labelsize=12)\n",
    "plt.rc('legend', fontsize=14)\n",
    "\n",
    "dims_fig = (10,6)"
   ]
  },
  {
   "cell_type": "code",
   "execution_count": 100,
   "metadata": {},
   "outputs": [],
   "source": [
    "data_path = 'data/articles/'\n",
    "clicks_path = data_path + 'clicks/'"
   ]
  },
  {
   "cell_type": "code",
   "execution_count": 101,
   "metadata": {},
   "outputs": [
    {
     "data": {
      "text/html": [
       "<div>\n",
       "<style scoped>\n",
       "    .dataframe tbody tr th:only-of-type {\n",
       "        vertical-align: middle;\n",
       "    }\n",
       "\n",
       "    .dataframe tbody tr th {\n",
       "        vertical-align: top;\n",
       "    }\n",
       "\n",
       "    .dataframe thead th {\n",
       "        text-align: right;\n",
       "    }\n",
       "</style>\n",
       "<table border=\"1\" class=\"dataframe\">\n",
       "  <thead>\n",
       "    <tr style=\"text-align: right;\">\n",
       "      <th></th>\n",
       "      <th>article_id</th>\n",
       "      <th>category_id</th>\n",
       "      <th>created_at_ts</th>\n",
       "      <th>publisher_id</th>\n",
       "      <th>words_count</th>\n",
       "    </tr>\n",
       "  </thead>\n",
       "  <tbody>\n",
       "    <tr>\n",
       "      <th>0</th>\n",
       "      <td>0</td>\n",
       "      <td>0</td>\n",
       "      <td>1513144419000</td>\n",
       "      <td>0</td>\n",
       "      <td>168</td>\n",
       "    </tr>\n",
       "    <tr>\n",
       "      <th>1</th>\n",
       "      <td>1</td>\n",
       "      <td>1</td>\n",
       "      <td>1405341936000</td>\n",
       "      <td>0</td>\n",
       "      <td>189</td>\n",
       "    </tr>\n",
       "    <tr>\n",
       "      <th>2</th>\n",
       "      <td>2</td>\n",
       "      <td>1</td>\n",
       "      <td>1408667706000</td>\n",
       "      <td>0</td>\n",
       "      <td>250</td>\n",
       "    </tr>\n",
       "    <tr>\n",
       "      <th>3</th>\n",
       "      <td>3</td>\n",
       "      <td>1</td>\n",
       "      <td>1408468313000</td>\n",
       "      <td>0</td>\n",
       "      <td>230</td>\n",
       "    </tr>\n",
       "    <tr>\n",
       "      <th>4</th>\n",
       "      <td>4</td>\n",
       "      <td>1</td>\n",
       "      <td>1407071171000</td>\n",
       "      <td>0</td>\n",
       "      <td>162</td>\n",
       "    </tr>\n",
       "  </tbody>\n",
       "</table>\n",
       "</div>"
      ],
      "text/plain": [
       "   article_id  category_id  created_at_ts  publisher_id  words_count\n",
       "0           0            0  1513144419000             0          168\n",
       "1           1            1  1405341936000             0          189\n",
       "2           2            1  1408667706000             0          250\n",
       "3           3            1  1408468313000             0          230\n",
       "4           4            1  1407071171000             0          162"
      ]
     },
     "execution_count": 101,
     "metadata": {},
     "output_type": "execute_result"
    }
   ],
   "source": [
    "articles_df = pd.read_csv(data_path + 'articles_metadata.csv')\n",
    "articles_df.head()"
   ]
  },
  {
   "cell_type": "code",
   "execution_count": 280,
   "metadata": {},
   "outputs": [
    {
     "data": {
      "text/html": [
       "<div>\n",
       "<style scoped>\n",
       "    .dataframe tbody tr th:only-of-type {\n",
       "        vertical-align: middle;\n",
       "    }\n",
       "\n",
       "    .dataframe tbody tr th {\n",
       "        vertical-align: top;\n",
       "    }\n",
       "\n",
       "    .dataframe thead th {\n",
       "        text-align: right;\n",
       "    }\n",
       "</style>\n",
       "<table border=\"1\" class=\"dataframe\">\n",
       "  <thead>\n",
       "    <tr style=\"text-align: right;\">\n",
       "      <th></th>\n",
       "      <th>embedding_0</th>\n",
       "      <th>embedding_1</th>\n",
       "      <th>embedding_2</th>\n",
       "      <th>embedding_3</th>\n",
       "      <th>embedding_4</th>\n",
       "      <th>embedding_5</th>\n",
       "      <th>embedding_6</th>\n",
       "      <th>embedding_7</th>\n",
       "      <th>embedding_8</th>\n",
       "      <th>embedding_9</th>\n",
       "      <th>...</th>\n",
       "      <th>embedding_240</th>\n",
       "      <th>embedding_241</th>\n",
       "      <th>embedding_242</th>\n",
       "      <th>embedding_243</th>\n",
       "      <th>embedding_244</th>\n",
       "      <th>embedding_245</th>\n",
       "      <th>embedding_246</th>\n",
       "      <th>embedding_247</th>\n",
       "      <th>embedding_248</th>\n",
       "      <th>embedding_249</th>\n",
       "    </tr>\n",
       "  </thead>\n",
       "  <tbody>\n",
       "    <tr>\n",
       "      <th>0</th>\n",
       "      <td>-0.161183</td>\n",
       "      <td>-0.957233</td>\n",
       "      <td>-0.137944</td>\n",
       "      <td>0.050855</td>\n",
       "      <td>0.830055</td>\n",
       "      <td>0.901365</td>\n",
       "      <td>-0.335148</td>\n",
       "      <td>-0.559561</td>\n",
       "      <td>-0.500603</td>\n",
       "      <td>0.165183</td>\n",
       "      <td>...</td>\n",
       "      <td>0.321248</td>\n",
       "      <td>0.313999</td>\n",
       "      <td>0.636412</td>\n",
       "      <td>0.169179</td>\n",
       "      <td>0.540524</td>\n",
       "      <td>-0.813182</td>\n",
       "      <td>0.286870</td>\n",
       "      <td>-0.231686</td>\n",
       "      <td>0.597416</td>\n",
       "      <td>0.409623</td>\n",
       "    </tr>\n",
       "    <tr>\n",
       "      <th>1</th>\n",
       "      <td>-0.523216</td>\n",
       "      <td>-0.974058</td>\n",
       "      <td>0.738608</td>\n",
       "      <td>0.155234</td>\n",
       "      <td>0.626294</td>\n",
       "      <td>0.485297</td>\n",
       "      <td>-0.715657</td>\n",
       "      <td>-0.897996</td>\n",
       "      <td>-0.359747</td>\n",
       "      <td>0.398246</td>\n",
       "      <td>...</td>\n",
       "      <td>-0.487843</td>\n",
       "      <td>0.823124</td>\n",
       "      <td>0.412688</td>\n",
       "      <td>-0.338654</td>\n",
       "      <td>0.320787</td>\n",
       "      <td>0.588643</td>\n",
       "      <td>-0.594137</td>\n",
       "      <td>0.182828</td>\n",
       "      <td>0.397090</td>\n",
       "      <td>-0.834364</td>\n",
       "    </tr>\n",
       "    <tr>\n",
       "      <th>2</th>\n",
       "      <td>-0.619619</td>\n",
       "      <td>-0.972960</td>\n",
       "      <td>-0.207360</td>\n",
       "      <td>-0.128861</td>\n",
       "      <td>0.044748</td>\n",
       "      <td>-0.387535</td>\n",
       "      <td>-0.730477</td>\n",
       "      <td>-0.066126</td>\n",
       "      <td>-0.754899</td>\n",
       "      <td>-0.242004</td>\n",
       "      <td>...</td>\n",
       "      <td>0.454756</td>\n",
       "      <td>0.473184</td>\n",
       "      <td>0.377866</td>\n",
       "      <td>-0.863887</td>\n",
       "      <td>-0.383365</td>\n",
       "      <td>0.137721</td>\n",
       "      <td>-0.810877</td>\n",
       "      <td>-0.447580</td>\n",
       "      <td>0.805932</td>\n",
       "      <td>-0.285284</td>\n",
       "    </tr>\n",
       "    <tr>\n",
       "      <th>3</th>\n",
       "      <td>-0.740843</td>\n",
       "      <td>-0.975749</td>\n",
       "      <td>0.391698</td>\n",
       "      <td>0.641738</td>\n",
       "      <td>-0.268645</td>\n",
       "      <td>0.191745</td>\n",
       "      <td>-0.825593</td>\n",
       "      <td>-0.710591</td>\n",
       "      <td>-0.040099</td>\n",
       "      <td>-0.110514</td>\n",
       "      <td>...</td>\n",
       "      <td>0.271535</td>\n",
       "      <td>0.036040</td>\n",
       "      <td>0.480029</td>\n",
       "      <td>-0.763173</td>\n",
       "      <td>0.022627</td>\n",
       "      <td>0.565165</td>\n",
       "      <td>-0.910286</td>\n",
       "      <td>-0.537838</td>\n",
       "      <td>0.243541</td>\n",
       "      <td>-0.885329</td>\n",
       "    </tr>\n",
       "    <tr>\n",
       "      <th>4</th>\n",
       "      <td>-0.279052</td>\n",
       "      <td>-0.972315</td>\n",
       "      <td>0.685374</td>\n",
       "      <td>0.113056</td>\n",
       "      <td>0.238315</td>\n",
       "      <td>0.271913</td>\n",
       "      <td>-0.568816</td>\n",
       "      <td>0.341194</td>\n",
       "      <td>-0.600554</td>\n",
       "      <td>-0.125644</td>\n",
       "      <td>...</td>\n",
       "      <td>0.238286</td>\n",
       "      <td>0.809268</td>\n",
       "      <td>0.427521</td>\n",
       "      <td>-0.615932</td>\n",
       "      <td>-0.503697</td>\n",
       "      <td>0.614450</td>\n",
       "      <td>-0.917760</td>\n",
       "      <td>-0.424061</td>\n",
       "      <td>0.185484</td>\n",
       "      <td>-0.580292</td>\n",
       "    </tr>\n",
       "  </tbody>\n",
       "</table>\n",
       "<p>5 rows × 250 columns</p>\n",
       "</div>"
      ],
      "text/plain": [
       "   embedding_0  embedding_1  embedding_2  embedding_3  embedding_4  \\\n",
       "0    -0.161183    -0.957233    -0.137944     0.050855     0.830055   \n",
       "1    -0.523216    -0.974058     0.738608     0.155234     0.626294   \n",
       "2    -0.619619    -0.972960    -0.207360    -0.128861     0.044748   \n",
       "3    -0.740843    -0.975749     0.391698     0.641738    -0.268645   \n",
       "4    -0.279052    -0.972315     0.685374     0.113056     0.238315   \n",
       "\n",
       "   embedding_5  embedding_6  embedding_7  embedding_8  embedding_9  ...  \\\n",
       "0     0.901365    -0.335148    -0.559561    -0.500603     0.165183  ...   \n",
       "1     0.485297    -0.715657    -0.897996    -0.359747     0.398246  ...   \n",
       "2    -0.387535    -0.730477    -0.066126    -0.754899    -0.242004  ...   \n",
       "3     0.191745    -0.825593    -0.710591    -0.040099    -0.110514  ...   \n",
       "4     0.271913    -0.568816     0.341194    -0.600554    -0.125644  ...   \n",
       "\n",
       "   embedding_240  embedding_241  embedding_242  embedding_243  embedding_244  \\\n",
       "0       0.321248       0.313999       0.636412       0.169179       0.540524   \n",
       "1      -0.487843       0.823124       0.412688      -0.338654       0.320787   \n",
       "2       0.454756       0.473184       0.377866      -0.863887      -0.383365   \n",
       "3       0.271535       0.036040       0.480029      -0.763173       0.022627   \n",
       "4       0.238286       0.809268       0.427521      -0.615932      -0.503697   \n",
       "\n",
       "   embedding_245  embedding_246  embedding_247  embedding_248  embedding_249  \n",
       "0      -0.813182       0.286870      -0.231686       0.597416       0.409623  \n",
       "1       0.588643      -0.594137       0.182828       0.397090      -0.834364  \n",
       "2       0.137721      -0.810877      -0.447580       0.805932      -0.285284  \n",
       "3       0.565165      -0.910286      -0.537838       0.243541      -0.885329  \n",
       "4       0.614450      -0.917760      -0.424061       0.185484      -0.580292  \n",
       "\n",
       "[5 rows x 250 columns]"
      ]
     },
     "execution_count": 280,
     "metadata": {},
     "output_type": "execute_result"
    }
   ],
   "source": [
    "articles_emb = pd.read_pickle(data_path + 'articles_embeddings.pickle')\n",
    "articles_emb = pd.DataFrame(articles_emb, columns=[\"embedding_\" + str(i) for i in range(articles_emb.shape[1])])\n",
    "articles_emb.head()"
   ]
  },
  {
   "cell_type": "code",
   "execution_count": 192,
   "metadata": {},
   "outputs": [],
   "source": [
    "pca = PCA(n_components=70)\n",
    "pca.fit(articles_emb)\n",
    "articles_emb_trans_pca = pca.transform(articles_emb)"
   ]
  },
  {
   "cell_type": "code",
   "execution_count": 193,
   "metadata": {},
   "outputs": [
    {
     "data": {
      "text/html": [
       "<div>\n",
       "<style scoped>\n",
       "    .dataframe tbody tr th:only-of-type {\n",
       "        vertical-align: middle;\n",
       "    }\n",
       "\n",
       "    .dataframe tbody tr th {\n",
       "        vertical-align: top;\n",
       "    }\n",
       "\n",
       "    .dataframe thead th {\n",
       "        text-align: right;\n",
       "    }\n",
       "</style>\n",
       "<table border=\"1\" class=\"dataframe\">\n",
       "  <thead>\n",
       "    <tr style=\"text-align: right;\">\n",
       "      <th></th>\n",
       "      <th>embedding_0</th>\n",
       "      <th>embedding_1</th>\n",
       "      <th>embedding_2</th>\n",
       "      <th>embedding_3</th>\n",
       "      <th>embedding_4</th>\n",
       "      <th>embedding_5</th>\n",
       "      <th>embedding_6</th>\n",
       "      <th>embedding_7</th>\n",
       "      <th>embedding_8</th>\n",
       "      <th>embedding_9</th>\n",
       "      <th>...</th>\n",
       "      <th>embedding_60</th>\n",
       "      <th>embedding_61</th>\n",
       "      <th>embedding_62</th>\n",
       "      <th>embedding_63</th>\n",
       "      <th>embedding_64</th>\n",
       "      <th>embedding_65</th>\n",
       "      <th>embedding_66</th>\n",
       "      <th>embedding_67</th>\n",
       "      <th>embedding_68</th>\n",
       "      <th>embedding_69</th>\n",
       "    </tr>\n",
       "  </thead>\n",
       "  <tbody>\n",
       "    <tr>\n",
       "      <th>0</th>\n",
       "      <td>-2.176779</td>\n",
       "      <td>-1.316917</td>\n",
       "      <td>-1.029053</td>\n",
       "      <td>0.901911</td>\n",
       "      <td>-1.809555</td>\n",
       "      <td>2.064694</td>\n",
       "      <td>1.221906</td>\n",
       "      <td>0.024451</td>\n",
       "      <td>0.927234</td>\n",
       "      <td>0.669827</td>\n",
       "      <td>...</td>\n",
       "      <td>0.230588</td>\n",
       "      <td>-0.100345</td>\n",
       "      <td>0.048613</td>\n",
       "      <td>0.057928</td>\n",
       "      <td>-0.319927</td>\n",
       "      <td>0.528034</td>\n",
       "      <td>0.115110</td>\n",
       "      <td>-0.420151</td>\n",
       "      <td>0.001385</td>\n",
       "      <td>0.069089</td>\n",
       "    </tr>\n",
       "    <tr>\n",
       "      <th>1</th>\n",
       "      <td>-1.735179</td>\n",
       "      <td>0.489897</td>\n",
       "      <td>3.268560</td>\n",
       "      <td>0.087855</td>\n",
       "      <td>1.473051</td>\n",
       "      <td>0.932728</td>\n",
       "      <td>-1.841621</td>\n",
       "      <td>0.881801</td>\n",
       "      <td>-0.207196</td>\n",
       "      <td>-0.816811</td>\n",
       "      <td>...</td>\n",
       "      <td>-0.102564</td>\n",
       "      <td>0.084034</td>\n",
       "      <td>-0.035630</td>\n",
       "      <td>0.419089</td>\n",
       "      <td>0.300881</td>\n",
       "      <td>-0.112764</td>\n",
       "      <td>-0.145098</td>\n",
       "      <td>0.197519</td>\n",
       "      <td>-0.180062</td>\n",
       "      <td>0.071035</td>\n",
       "    </tr>\n",
       "    <tr>\n",
       "      <th>2</th>\n",
       "      <td>-0.912690</td>\n",
       "      <td>-2.089337</td>\n",
       "      <td>1.865876</td>\n",
       "      <td>-1.202525</td>\n",
       "      <td>2.530583</td>\n",
       "      <td>0.521989</td>\n",
       "      <td>-0.224339</td>\n",
       "      <td>-1.479935</td>\n",
       "      <td>-0.191847</td>\n",
       "      <td>-1.356812</td>\n",
       "      <td>...</td>\n",
       "      <td>0.104639</td>\n",
       "      <td>0.102848</td>\n",
       "      <td>0.192354</td>\n",
       "      <td>0.219671</td>\n",
       "      <td>0.141724</td>\n",
       "      <td>-0.136361</td>\n",
       "      <td>0.145179</td>\n",
       "      <td>-0.143148</td>\n",
       "      <td>0.065917</td>\n",
       "      <td>0.267713</td>\n",
       "    </tr>\n",
       "    <tr>\n",
       "      <th>3</th>\n",
       "      <td>1.096562</td>\n",
       "      <td>0.212963</td>\n",
       "      <td>4.183521</td>\n",
       "      <td>-0.649562</td>\n",
       "      <td>-0.130864</td>\n",
       "      <td>-1.126550</td>\n",
       "      <td>-1.063989</td>\n",
       "      <td>0.662894</td>\n",
       "      <td>0.348151</td>\n",
       "      <td>-1.463897</td>\n",
       "      <td>...</td>\n",
       "      <td>0.180369</td>\n",
       "      <td>-0.028704</td>\n",
       "      <td>-0.371825</td>\n",
       "      <td>-0.105326</td>\n",
       "      <td>0.366992</td>\n",
       "      <td>0.291578</td>\n",
       "      <td>0.348997</td>\n",
       "      <td>-0.040329</td>\n",
       "      <td>-0.053127</td>\n",
       "      <td>-0.297753</td>\n",
       "    </tr>\n",
       "    <tr>\n",
       "      <th>4</th>\n",
       "      <td>0.193782</td>\n",
       "      <td>-0.263946</td>\n",
       "      <td>1.896589</td>\n",
       "      <td>-1.834350</td>\n",
       "      <td>1.270350</td>\n",
       "      <td>1.723298</td>\n",
       "      <td>-0.328998</td>\n",
       "      <td>-0.283803</td>\n",
       "      <td>-0.659784</td>\n",
       "      <td>-1.223749</td>\n",
       "      <td>...</td>\n",
       "      <td>0.448453</td>\n",
       "      <td>-0.348766</td>\n",
       "      <td>0.222626</td>\n",
       "      <td>-0.081640</td>\n",
       "      <td>0.405957</td>\n",
       "      <td>-0.121807</td>\n",
       "      <td>0.379097</td>\n",
       "      <td>0.104796</td>\n",
       "      <td>0.152662</td>\n",
       "      <td>-0.140578</td>\n",
       "    </tr>\n",
       "  </tbody>\n",
       "</table>\n",
       "<p>5 rows × 70 columns</p>\n",
       "</div>"
      ],
      "text/plain": [
       "   embedding_0  embedding_1  embedding_2  embedding_3  embedding_4  \\\n",
       "0    -2.176779    -1.316917    -1.029053     0.901911    -1.809555   \n",
       "1    -1.735179     0.489897     3.268560     0.087855     1.473051   \n",
       "2    -0.912690    -2.089337     1.865876    -1.202525     2.530583   \n",
       "3     1.096562     0.212963     4.183521    -0.649562    -0.130864   \n",
       "4     0.193782    -0.263946     1.896589    -1.834350     1.270350   \n",
       "\n",
       "   embedding_5  embedding_6  embedding_7  embedding_8  embedding_9  ...  \\\n",
       "0     2.064694     1.221906     0.024451     0.927234     0.669827  ...   \n",
       "1     0.932728    -1.841621     0.881801    -0.207196    -0.816811  ...   \n",
       "2     0.521989    -0.224339    -1.479935    -0.191847    -1.356812  ...   \n",
       "3    -1.126550    -1.063989     0.662894     0.348151    -1.463897  ...   \n",
       "4     1.723298    -0.328998    -0.283803    -0.659784    -1.223749  ...   \n",
       "\n",
       "   embedding_60  embedding_61  embedding_62  embedding_63  embedding_64  \\\n",
       "0      0.230588     -0.100345      0.048613      0.057928     -0.319927   \n",
       "1     -0.102564      0.084034     -0.035630      0.419089      0.300881   \n",
       "2      0.104639      0.102848      0.192354      0.219671      0.141724   \n",
       "3      0.180369     -0.028704     -0.371825     -0.105326      0.366992   \n",
       "4      0.448453     -0.348766      0.222626     -0.081640      0.405957   \n",
       "\n",
       "   embedding_65  embedding_66  embedding_67  embedding_68  embedding_69  \n",
       "0      0.528034      0.115110     -0.420151      0.001385      0.069089  \n",
       "1     -0.112764     -0.145098      0.197519     -0.180062      0.071035  \n",
       "2     -0.136361      0.145179     -0.143148      0.065917      0.267713  \n",
       "3      0.291578      0.348997     -0.040329     -0.053127     -0.297753  \n",
       "4     -0.121807      0.379097      0.104796      0.152662     -0.140578  \n",
       "\n",
       "[5 rows x 70 columns]"
      ]
     },
     "execution_count": 193,
     "metadata": {},
     "output_type": "execute_result"
    }
   ],
   "source": [
    "articles_emb_trans_pca = pd.DataFrame(articles_emb_trans_pca, columns=[\"embedding_\" + str(i) for i in range(articles_emb_trans_pca.shape[1])])\n",
    "articles_emb_trans_pca.head()"
   ]
  },
  {
   "cell_type": "code",
   "execution_count": 194,
   "metadata": {},
   "outputs": [
    {
     "data": {
      "text/plain": [
       "0.9773061622691812"
      ]
     },
     "execution_count": 194,
     "metadata": {},
     "output_type": "execute_result"
    }
   ],
   "source": [
    "sum(pca.explained_variance_ratio_)"
   ]
  },
  {
   "cell_type": "code",
   "execution_count": 108,
   "metadata": {},
   "outputs": [
    {
     "data": {
      "text/html": [
       "<div>\n",
       "<style scoped>\n",
       "    .dataframe tbody tr th:only-of-type {\n",
       "        vertical-align: middle;\n",
       "    }\n",
       "\n",
       "    .dataframe tbody tr th {\n",
       "        vertical-align: top;\n",
       "    }\n",
       "\n",
       "    .dataframe thead th {\n",
       "        text-align: right;\n",
       "    }\n",
       "</style>\n",
       "<table border=\"1\" class=\"dataframe\">\n",
       "  <thead>\n",
       "    <tr style=\"text-align: right;\">\n",
       "      <th></th>\n",
       "      <th>user_id</th>\n",
       "      <th>session_id</th>\n",
       "      <th>session_size</th>\n",
       "      <th>click_article_id</th>\n",
       "    </tr>\n",
       "  </thead>\n",
       "  <tbody>\n",
       "    <tr>\n",
       "      <th>0</th>\n",
       "      <td>0</td>\n",
       "      <td>1506825423271737</td>\n",
       "      <td>2</td>\n",
       "      <td>157541</td>\n",
       "    </tr>\n",
       "    <tr>\n",
       "      <th>1</th>\n",
       "      <td>0</td>\n",
       "      <td>1506825423271737</td>\n",
       "      <td>2</td>\n",
       "      <td>68866</td>\n",
       "    </tr>\n",
       "    <tr>\n",
       "      <th>2</th>\n",
       "      <td>1</td>\n",
       "      <td>1506825426267738</td>\n",
       "      <td>2</td>\n",
       "      <td>235840</td>\n",
       "    </tr>\n",
       "    <tr>\n",
       "      <th>3</th>\n",
       "      <td>1</td>\n",
       "      <td>1506825426267738</td>\n",
       "      <td>2</td>\n",
       "      <td>96663</td>\n",
       "    </tr>\n",
       "    <tr>\n",
       "      <th>4</th>\n",
       "      <td>2</td>\n",
       "      <td>1506825435299739</td>\n",
       "      <td>2</td>\n",
       "      <td>119592</td>\n",
       "    </tr>\n",
       "  </tbody>\n",
       "</table>\n",
       "</div>"
      ],
      "text/plain": [
       "  user_id        session_id session_size click_article_id\n",
       "0       0  1506825423271737            2           157541\n",
       "1       0  1506825423271737            2            68866\n",
       "2       1  1506825426267738            2           235840\n",
       "3       1  1506825426267738            2            96663\n",
       "4       2  1506825435299739            2           119592"
      ]
     },
     "execution_count": 108,
     "metadata": {},
     "output_type": "execute_result"
    }
   ],
   "source": [
    "clicks_df = helpers.get_all_clicks_files(clicks_path)\n",
    "clicks_df = clicks_df[['user_id', 'session_id', 'session_size', 'click_article_id']]\n",
    "clicks_df.head()"
   ]
  },
  {
   "cell_type": "code",
   "execution_count": 195,
   "metadata": {},
   "outputs": [],
   "source": [
    "# Sauvegarder pour le stockage Azure Blob\n",
    "data_azure = 'data_azure'\n",
    "\n",
    "list_dir = os.listdir('data/')\n",
    "\n",
    "if data_azure not in list_dir:\n",
    "    os.mkdir('data/' + data_azure)\n",
    "\n",
    "articles_emb_trans_pca.to_pickle('data/' + data_azure + '/articles_embeddings.pickle')\n",
    "clicks_df.to_pickle('data/' + data_azure + '/all_clicks.pickle')"
   ]
  },
  {
   "cell_type": "markdown",
   "metadata": {},
   "source": [
    "### Content-Based Recommender model"
   ]
  },
  {
   "cell_type": "code",
   "execution_count": 366,
   "metadata": {},
   "outputs": [],
   "source": [
    "def contentBasedRecommendArticle(articles, clicks, user_id, n=5):\n",
    "\n",
    "    articles_read = clicks[clicks['user_id'] == user_id]['click_article_id'].tolist()\n",
    "\n",
    "    if len(articles_read) == 0:\n",
    "        return \"L'utilisateur n'a lu aucun article\"\n",
    "\n",
    "    articles_read_embedding = articles.loc[articles_read]\n",
    "\n",
    "    articles = articles.drop(articles_read)\n",
    "\n",
    "    matrix = cosine_similarity(articles_read_embedding, articles)\n",
    "\n",
    "    rec = []\n",
    "\n",
    "    for i in range(n):\n",
    "        coord_x = floor(np.argmax(matrix)/matrix.shape[1])\n",
    "        coord_y = np.argmax(matrix)%matrix.shape[1]\n",
    "\n",
    "        rec.append(int(articles.index[coord_y]))\n",
    "\n",
    "        matrix[coord_x][coord_y] = 0\n",
    "\n",
    "    return rec"
   ]
  },
  {
   "cell_type": "code",
   "execution_count": 284,
   "metadata": {},
   "outputs": [
    {
     "name": "stdout",
     "output_type": "stream",
     "text": [
      "[62627, 62630, 157015, 224354, 284603]\n"
     ]
    }
   ],
   "source": [
    "test = contentBasedRecommendArticle(articles_emb, clicks_df, 5)\n",
    "print(test)"
   ]
  },
  {
   "cell_type": "code",
   "execution_count": 285,
   "metadata": {},
   "outputs": [
    {
     "name": "stdout",
     "output_type": "stream",
     "text": [
      "[62627, 62630, 157015, 224354, 284603]\n"
     ]
    }
   ],
   "source": [
    "test = contentBasedRecommendArticle(articles_emb_trans_pca, clicks_df, 5)\n",
    "print(test)"
   ]
  },
  {
   "cell_type": "markdown",
   "metadata": {},
   "source": [
    "### Collaborative Filtering Recommender model"
   ]
  },
  {
   "cell_type": "code",
   "execution_count": 199,
   "metadata": {},
   "outputs": [],
   "source": [
    "def calculRatingByClick(clicks):\n",
    "\n",
    "    count_user_article_size = (clicks.groupby(['user_id', \"click_article_id\"]).agg(user_article_size=(\"session_size\", \"sum\")))\n",
    "    count_user_total_size = (clicks.groupby(['user_id']).agg(user_total_size=(\"session_size\", \"sum\")))\n",
    "\n",
    "    ratings = count_user_article_size.join(count_user_total_size, on=\"user_id\")\n",
    "\n",
    "    ratings['rating'] = ratings['user_article_size'] / ratings['user_total_size']\n",
    "\n",
    "    ratings = ratings.reset_index().drop(['user_article_size', 'user_total_size'], axis = 1).rename({'click_article_id': 'article_id'}, axis = 1)\n",
    "\n",
    "    return ratings"
   ]
  },
  {
   "cell_type": "code",
   "execution_count": 200,
   "metadata": {},
   "outputs": [
    {
     "data": {
      "text/html": [
       "<div>\n",
       "<style scoped>\n",
       "    .dataframe tbody tr th:only-of-type {\n",
       "        vertical-align: middle;\n",
       "    }\n",
       "\n",
       "    .dataframe tbody tr th {\n",
       "        vertical-align: top;\n",
       "    }\n",
       "\n",
       "    .dataframe thead th {\n",
       "        text-align: right;\n",
       "    }\n",
       "</style>\n",
       "<table border=\"1\" class=\"dataframe\">\n",
       "  <thead>\n",
       "    <tr style=\"text-align: right;\">\n",
       "      <th></th>\n",
       "      <th>user_id</th>\n",
       "      <th>article_id</th>\n",
       "      <th>rating</th>\n",
       "    </tr>\n",
       "  </thead>\n",
       "  <tbody>\n",
       "    <tr>\n",
       "      <th>0</th>\n",
       "      <td>0</td>\n",
       "      <td>68866</td>\n",
       "      <td>0.125</td>\n",
       "    </tr>\n",
       "    <tr>\n",
       "      <th>1</th>\n",
       "      <td>0</td>\n",
       "      <td>87205</td>\n",
       "      <td>0.125</td>\n",
       "    </tr>\n",
       "    <tr>\n",
       "      <th>2</th>\n",
       "      <td>0</td>\n",
       "      <td>87224</td>\n",
       "      <td>0.125</td>\n",
       "    </tr>\n",
       "    <tr>\n",
       "      <th>3</th>\n",
       "      <td>0</td>\n",
       "      <td>96755</td>\n",
       "      <td>0.125</td>\n",
       "    </tr>\n",
       "    <tr>\n",
       "      <th>4</th>\n",
       "      <td>0</td>\n",
       "      <td>157541</td>\n",
       "      <td>0.125</td>\n",
       "    </tr>\n",
       "  </tbody>\n",
       "</table>\n",
       "</div>"
      ],
      "text/plain": [
       "   user_id  article_id rating\n",
       "0        0       68866  0.125\n",
       "1        0       87205  0.125\n",
       "2        0       87224  0.125\n",
       "3        0       96755  0.125\n",
       "4        0      157541  0.125"
      ]
     },
     "execution_count": 200,
     "metadata": {},
     "output_type": "execute_result"
    }
   ],
   "source": [
    "ratings = calculRatingByClick(clicks_df)\n",
    "\n",
    "ratings.head()"
   ]
  },
  {
   "cell_type": "code",
   "execution_count": 116,
   "metadata": {},
   "outputs": [],
   "source": [
    "reader = Reader(rating_scale=(0, 1))\n",
    "\n",
    "data = Dataset.load_from_df(ratings.sample(frac=0.1, random_state=42), reader=reader)\n",
    "\n",
    "param_grid = {'n_factors': [20, 50, 100], 'n_epochs': [10, 20, 50],\n",
    "              'lr_all': [0.002, 0.005, 0.01], 'reg_all': [0.02, 0.04, 0.1]}\n",
    "\n",
    "gs = GridSearchCV(SVD, param_grid, measures=['rmse', 'mae'], cv=3)\n",
    "\n",
    "gs.fit(data)"
   ]
  },
  {
   "cell_type": "code",
   "execution_count": 117,
   "metadata": {},
   "outputs": [
    {
     "name": "stdout",
     "output_type": "stream",
     "text": [
      "0.11414360806995917\n",
      "{'n_factors': 20, 'n_epochs': 50, 'lr_all': 0.01, 'reg_all': 0.1}\n"
     ]
    }
   ],
   "source": [
    "# best RMSE score\n",
    "print(gs.best_score['rmse'])\n",
    "\n",
    "# combination of parameters that gave the best RMSE score\n",
    "print(gs.best_params['rmse'])"
   ]
  },
  {
   "cell_type": "code",
   "execution_count": 459,
   "metadata": {},
   "outputs": [
    {
     "data": {
      "text/plain": [
       "<surprise.prediction_algorithms.matrix_factorization.SVD at 0x2b0c8291d90>"
      ]
     },
     "execution_count": 459,
     "metadata": {},
     "output_type": "execute_result"
    }
   ],
   "source": [
    "data = Dataset.load_from_df(ratings, reader=reader)\n",
    "\n",
    "trainset = data.build_full_trainset()\n",
    "\n",
    "model_SVD = gs.best_estimator['rmse']\n",
    "\n",
    "model_SVD.fit(trainset)"
   ]
  },
  {
   "cell_type": "code",
   "execution_count": 462,
   "metadata": {},
   "outputs": [],
   "source": [
    "# Sauvegarder du modèle\n",
    "data_model = 'model'\n",
    "model_filename = \"model_svd.pickle\"\n",
    "\n",
    "list_dir = os.listdir('data/')\n",
    "\n",
    "if data_model not in list_dir:\n",
    "    os.mkdir('data/' + data_model)\n",
    "\n",
    "dump.dump('data/' + data_model + '/' + model_filename, algo=model_SVD)"
   ]
  },
  {
   "cell_type": "code",
   "execution_count": 463,
   "metadata": {},
   "outputs": [
    {
     "name": "stdout",
     "output_type": "stream",
     "text": [
      "user: 5          item: 158536     r_ui = None   est = 0.03   {'was_impossible': False}\n"
     ]
    },
    {
     "data": {
      "text/plain": [
       "Prediction(uid=5, iid=158536, r_ui=None, est=0.029011999356316202, details={'was_impossible': False})"
      ]
     },
     "execution_count": 463,
     "metadata": {},
     "output_type": "execute_result"
    }
   ],
   "source": [
    "model_SVD.predict(5, 158536, verbose=True)"
   ]
  },
  {
   "cell_type": "code",
   "execution_count": 464,
   "metadata": {},
   "outputs": [],
   "source": [
    "def collaborativeFilteringRecommendArticle(articles, clicks, user_id, n=5):\n",
    "\n",
    "    index = list(articles.index)\n",
    "\n",
    "    articles_read = clicks[clicks['user_id'] == user_id]['click_article_id'].tolist()\n",
    "\n",
    "    for ele in articles_read:\n",
    "        if ele in index:\n",
    "            index.remove(ele)\n",
    "\n",
    "    results = dict()\n",
    "\n",
    "    for i in index:\n",
    "        pred = model_SVD.predict(user_id, i)\n",
    "        results[pred.iid] = pred.est\n",
    "    \n",
    "    return nlargest(n, results, key = results.get)"
   ]
  },
  {
   "cell_type": "code",
   "execution_count": 465,
   "metadata": {},
   "outputs": [
    {
     "data": {
      "text/plain": [
       "[289003, 67185, 50644, 39894, 36162, 352979, 74450, 214753, 74501, 336254]"
      ]
     },
     "execution_count": 465,
     "metadata": {},
     "output_type": "execute_result"
    }
   ],
   "source": [
    "results = collaborativeFilteringRecommendArticle(articles_emb, clicks_df, 5, 10)\n",
    "results"
   ]
  },
  {
   "cell_type": "code",
   "execution_count": 471,
   "metadata": {},
   "outputs": [
    {
     "data": {
      "text/plain": [
       "[74501, 283009, 277107, 50644, 352979, 39894, 36162, 214753, 336254, 186070]"
      ]
     },
     "execution_count": 471,
     "metadata": {},
     "output_type": "execute_result"
    }
   ],
   "source": [
    "results = collaborativeFilteringRecommendArticle(articles_emb, clicks_df, 850, 10)\n",
    "results"
   ]
  }
 ],
 "metadata": {
  "kernelspec": {
   "display_name": "Python 3.9.7 ('projet_9')",
   "language": "python",
   "name": "python3"
  },
  "language_info": {
   "codemirror_mode": {
    "name": "ipython",
    "version": 3
   },
   "file_extension": ".py",
   "mimetype": "text/x-python",
   "name": "python",
   "nbconvert_exporter": "python",
   "pygments_lexer": "ipython3",
   "version": "3.9.7"
  },
  "orig_nbformat": 4,
  "vscode": {
   "interpreter": {
    "hash": "345eabd549a29151fea4104935da81a3c242d9b512fbf35f8454b9f81feb0373"
   }
  }
 },
 "nbformat": 4,
 "nbformat_minor": 2
}
